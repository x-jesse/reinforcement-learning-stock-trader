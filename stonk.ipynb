{
  "nbformat": 4,
  "nbformat_minor": 0,
  "metadata": {
    "colab": {
      "provenance": [],
      "toc_visible": true,
      "gpuType": "T4"
    },
    "kernelspec": {
      "name": "python3",
      "display_name": "Python 3"
    },
    "language_info": {
      "name": "python"
    },
    "accelerator": "GPU",
    "widgets": {
      "application/vnd.jupyter.widget-state+json": {
        "700159c1de534f66a7d410e717935de1": {
          "model_module": "@jupyter-widgets/controls",
          "model_name": "VBoxModel",
          "model_module_version": "1.5.0",
          "state": {
            "_dom_classes": [],
            "_model_module": "@jupyter-widgets/controls",
            "_model_module_version": "1.5.0",
            "_model_name": "VBoxModel",
            "_view_count": null,
            "_view_module": "@jupyter-widgets/controls",
            "_view_module_version": "1.5.0",
            "_view_name": "VBoxView",
            "box_style": "",
            "children": [
              "IPY_MODEL_b94e9be443f34b3ea381f733e150c4d2",
              "IPY_MODEL_e055f63b50ac452cac312106faa71282"
            ],
            "layout": "IPY_MODEL_802651bf0df1485f89407e5ab4d6a171"
          }
        },
        "b94e9be443f34b3ea381f733e150c4d2": {
          "model_module": "@jupyter-widgets/controls",
          "model_name": "LabelModel",
          "model_module_version": "1.5.0",
          "state": {
            "_dom_classes": [],
            "_model_module": "@jupyter-widgets/controls",
            "_model_module_version": "1.5.0",
            "_model_name": "LabelModel",
            "_view_count": null,
            "_view_module": "@jupyter-widgets/controls",
            "_view_module_version": "1.5.0",
            "_view_name": "LabelView",
            "description": "",
            "description_tooltip": null,
            "layout": "IPY_MODEL_5b7d5568f9954a0398c196268d10f2f2",
            "placeholder": "​",
            "style": "IPY_MODEL_1c376f556382415cb36a1c7b6447ec50",
            "value": "0.012 MB of 0.012 MB uploaded\r"
          }
        },
        "e055f63b50ac452cac312106faa71282": {
          "model_module": "@jupyter-widgets/controls",
          "model_name": "FloatProgressModel",
          "model_module_version": "1.5.0",
          "state": {
            "_dom_classes": [],
            "_model_module": "@jupyter-widgets/controls",
            "_model_module_version": "1.5.0",
            "_model_name": "FloatProgressModel",
            "_view_count": null,
            "_view_module": "@jupyter-widgets/controls",
            "_view_module_version": "1.5.0",
            "_view_name": "ProgressView",
            "bar_style": "",
            "description": "",
            "description_tooltip": null,
            "layout": "IPY_MODEL_e2960e5b324644f984559d798de7ff19",
            "max": 1,
            "min": 0,
            "orientation": "horizontal",
            "style": "IPY_MODEL_620794c63aa04064a8323bcd4e39d6a8",
            "value": 1
          }
        },
        "802651bf0df1485f89407e5ab4d6a171": {
          "model_module": "@jupyter-widgets/base",
          "model_name": "LayoutModel",
          "model_module_version": "1.2.0",
          "state": {
            "_model_module": "@jupyter-widgets/base",
            "_model_module_version": "1.2.0",
            "_model_name": "LayoutModel",
            "_view_count": null,
            "_view_module": "@jupyter-widgets/base",
            "_view_module_version": "1.2.0",
            "_view_name": "LayoutView",
            "align_content": null,
            "align_items": null,
            "align_self": null,
            "border": null,
            "bottom": null,
            "display": null,
            "flex": null,
            "flex_flow": null,
            "grid_area": null,
            "grid_auto_columns": null,
            "grid_auto_flow": null,
            "grid_auto_rows": null,
            "grid_column": null,
            "grid_gap": null,
            "grid_row": null,
            "grid_template_areas": null,
            "grid_template_columns": null,
            "grid_template_rows": null,
            "height": null,
            "justify_content": null,
            "justify_items": null,
            "left": null,
            "margin": null,
            "max_height": null,
            "max_width": null,
            "min_height": null,
            "min_width": null,
            "object_fit": null,
            "object_position": null,
            "order": null,
            "overflow": null,
            "overflow_x": null,
            "overflow_y": null,
            "padding": null,
            "right": null,
            "top": null,
            "visibility": null,
            "width": null
          }
        },
        "5b7d5568f9954a0398c196268d10f2f2": {
          "model_module": "@jupyter-widgets/base",
          "model_name": "LayoutModel",
          "model_module_version": "1.2.0",
          "state": {
            "_model_module": "@jupyter-widgets/base",
            "_model_module_version": "1.2.0",
            "_model_name": "LayoutModel",
            "_view_count": null,
            "_view_module": "@jupyter-widgets/base",
            "_view_module_version": "1.2.0",
            "_view_name": "LayoutView",
            "align_content": null,
            "align_items": null,
            "align_self": null,
            "border": null,
            "bottom": null,
            "display": null,
            "flex": null,
            "flex_flow": null,
            "grid_area": null,
            "grid_auto_columns": null,
            "grid_auto_flow": null,
            "grid_auto_rows": null,
            "grid_column": null,
            "grid_gap": null,
            "grid_row": null,
            "grid_template_areas": null,
            "grid_template_columns": null,
            "grid_template_rows": null,
            "height": null,
            "justify_content": null,
            "justify_items": null,
            "left": null,
            "margin": null,
            "max_height": null,
            "max_width": null,
            "min_height": null,
            "min_width": null,
            "object_fit": null,
            "object_position": null,
            "order": null,
            "overflow": null,
            "overflow_x": null,
            "overflow_y": null,
            "padding": null,
            "right": null,
            "top": null,
            "visibility": null,
            "width": null
          }
        },
        "1c376f556382415cb36a1c7b6447ec50": {
          "model_module": "@jupyter-widgets/controls",
          "model_name": "DescriptionStyleModel",
          "model_module_version": "1.5.0",
          "state": {
            "_model_module": "@jupyter-widgets/controls",
            "_model_module_version": "1.5.0",
            "_model_name": "DescriptionStyleModel",
            "_view_count": null,
            "_view_module": "@jupyter-widgets/base",
            "_view_module_version": "1.2.0",
            "_view_name": "StyleView",
            "description_width": ""
          }
        },
        "e2960e5b324644f984559d798de7ff19": {
          "model_module": "@jupyter-widgets/base",
          "model_name": "LayoutModel",
          "model_module_version": "1.2.0",
          "state": {
            "_model_module": "@jupyter-widgets/base",
            "_model_module_version": "1.2.0",
            "_model_name": "LayoutModel",
            "_view_count": null,
            "_view_module": "@jupyter-widgets/base",
            "_view_module_version": "1.2.0",
            "_view_name": "LayoutView",
            "align_content": null,
            "align_items": null,
            "align_self": null,
            "border": null,
            "bottom": null,
            "display": null,
            "flex": null,
            "flex_flow": null,
            "grid_area": null,
            "grid_auto_columns": null,
            "grid_auto_flow": null,
            "grid_auto_rows": null,
            "grid_column": null,
            "grid_gap": null,
            "grid_row": null,
            "grid_template_areas": null,
            "grid_template_columns": null,
            "grid_template_rows": null,
            "height": null,
            "justify_content": null,
            "justify_items": null,
            "left": null,
            "margin": null,
            "max_height": null,
            "max_width": null,
            "min_height": null,
            "min_width": null,
            "object_fit": null,
            "object_position": null,
            "order": null,
            "overflow": null,
            "overflow_x": null,
            "overflow_y": null,
            "padding": null,
            "right": null,
            "top": null,
            "visibility": null,
            "width": null
          }
        },
        "620794c63aa04064a8323bcd4e39d6a8": {
          "model_module": "@jupyter-widgets/controls",
          "model_name": "ProgressStyleModel",
          "model_module_version": "1.5.0",
          "state": {
            "_model_module": "@jupyter-widgets/controls",
            "_model_module_version": "1.5.0",
            "_model_name": "ProgressStyleModel",
            "_view_count": null,
            "_view_module": "@jupyter-widgets/base",
            "_view_module_version": "1.2.0",
            "_view_name": "StyleView",
            "bar_color": null,
            "description_width": ""
          }
        },
        "e6d346d1bf9d4ca095c76e6e74308df8": {
          "model_module": "@jupyter-widgets/controls",
          "model_name": "VBoxModel",
          "model_module_version": "1.5.0",
          "state": {
            "_dom_classes": [],
            "_model_module": "@jupyter-widgets/controls",
            "_model_module_version": "1.5.0",
            "_model_name": "VBoxModel",
            "_view_count": null,
            "_view_module": "@jupyter-widgets/controls",
            "_view_module_version": "1.5.0",
            "_view_name": "VBoxView",
            "box_style": "",
            "children": [
              "IPY_MODEL_54d85d2998b8461d935cf97b0ff774a5",
              "IPY_MODEL_b64a15ce8bf7443bb242715acf345f77"
            ],
            "layout": "IPY_MODEL_0619c42f098c498a847326fe61cb763e"
          }
        },
        "54d85d2998b8461d935cf97b0ff774a5": {
          "model_module": "@jupyter-widgets/controls",
          "model_name": "LabelModel",
          "model_module_version": "1.5.0",
          "state": {
            "_dom_classes": [],
            "_model_module": "@jupyter-widgets/controls",
            "_model_module_version": "1.5.0",
            "_model_name": "LabelModel",
            "_view_count": null,
            "_view_module": "@jupyter-widgets/controls",
            "_view_module_version": "1.5.0",
            "_view_name": "LabelView",
            "description": "",
            "description_tooltip": null,
            "layout": "IPY_MODEL_06813e3d5c5c49b190e2cfbde000ab1d",
            "placeholder": "​",
            "style": "IPY_MODEL_2fd914ad5ba24f1e9905ea76a1256741",
            "value": "0.011 MB of 0.011 MB uploaded\r"
          }
        },
        "b64a15ce8bf7443bb242715acf345f77": {
          "model_module": "@jupyter-widgets/controls",
          "model_name": "FloatProgressModel",
          "model_module_version": "1.5.0",
          "state": {
            "_dom_classes": [],
            "_model_module": "@jupyter-widgets/controls",
            "_model_module_version": "1.5.0",
            "_model_name": "FloatProgressModel",
            "_view_count": null,
            "_view_module": "@jupyter-widgets/controls",
            "_view_module_version": "1.5.0",
            "_view_name": "ProgressView",
            "bar_style": "",
            "description": "",
            "description_tooltip": null,
            "layout": "IPY_MODEL_9061cee0366a44dfad44b8fda0cf31dc",
            "max": 1,
            "min": 0,
            "orientation": "horizontal",
            "style": "IPY_MODEL_e77f8b01cdde4c7ba511cc9f2e4181ec",
            "value": 1
          }
        },
        "0619c42f098c498a847326fe61cb763e": {
          "model_module": "@jupyter-widgets/base",
          "model_name": "LayoutModel",
          "model_module_version": "1.2.0",
          "state": {
            "_model_module": "@jupyter-widgets/base",
            "_model_module_version": "1.2.0",
            "_model_name": "LayoutModel",
            "_view_count": null,
            "_view_module": "@jupyter-widgets/base",
            "_view_module_version": "1.2.0",
            "_view_name": "LayoutView",
            "align_content": null,
            "align_items": null,
            "align_self": null,
            "border": null,
            "bottom": null,
            "display": null,
            "flex": null,
            "flex_flow": null,
            "grid_area": null,
            "grid_auto_columns": null,
            "grid_auto_flow": null,
            "grid_auto_rows": null,
            "grid_column": null,
            "grid_gap": null,
            "grid_row": null,
            "grid_template_areas": null,
            "grid_template_columns": null,
            "grid_template_rows": null,
            "height": null,
            "justify_content": null,
            "justify_items": null,
            "left": null,
            "margin": null,
            "max_height": null,
            "max_width": null,
            "min_height": null,
            "min_width": null,
            "object_fit": null,
            "object_position": null,
            "order": null,
            "overflow": null,
            "overflow_x": null,
            "overflow_y": null,
            "padding": null,
            "right": null,
            "top": null,
            "visibility": null,
            "width": null
          }
        },
        "06813e3d5c5c49b190e2cfbde000ab1d": {
          "model_module": "@jupyter-widgets/base",
          "model_name": "LayoutModel",
          "model_module_version": "1.2.0",
          "state": {
            "_model_module": "@jupyter-widgets/base",
            "_model_module_version": "1.2.0",
            "_model_name": "LayoutModel",
            "_view_count": null,
            "_view_module": "@jupyter-widgets/base",
            "_view_module_version": "1.2.0",
            "_view_name": "LayoutView",
            "align_content": null,
            "align_items": null,
            "align_self": null,
            "border": null,
            "bottom": null,
            "display": null,
            "flex": null,
            "flex_flow": null,
            "grid_area": null,
            "grid_auto_columns": null,
            "grid_auto_flow": null,
            "grid_auto_rows": null,
            "grid_column": null,
            "grid_gap": null,
            "grid_row": null,
            "grid_template_areas": null,
            "grid_template_columns": null,
            "grid_template_rows": null,
            "height": null,
            "justify_content": null,
            "justify_items": null,
            "left": null,
            "margin": null,
            "max_height": null,
            "max_width": null,
            "min_height": null,
            "min_width": null,
            "object_fit": null,
            "object_position": null,
            "order": null,
            "overflow": null,
            "overflow_x": null,
            "overflow_y": null,
            "padding": null,
            "right": null,
            "top": null,
            "visibility": null,
            "width": null
          }
        },
        "2fd914ad5ba24f1e9905ea76a1256741": {
          "model_module": "@jupyter-widgets/controls",
          "model_name": "DescriptionStyleModel",
          "model_module_version": "1.5.0",
          "state": {
            "_model_module": "@jupyter-widgets/controls",
            "_model_module_version": "1.5.0",
            "_model_name": "DescriptionStyleModel",
            "_view_count": null,
            "_view_module": "@jupyter-widgets/base",
            "_view_module_version": "1.2.0",
            "_view_name": "StyleView",
            "description_width": ""
          }
        },
        "9061cee0366a44dfad44b8fda0cf31dc": {
          "model_module": "@jupyter-widgets/base",
          "model_name": "LayoutModel",
          "model_module_version": "1.2.0",
          "state": {
            "_model_module": "@jupyter-widgets/base",
            "_model_module_version": "1.2.0",
            "_model_name": "LayoutModel",
            "_view_count": null,
            "_view_module": "@jupyter-widgets/base",
            "_view_module_version": "1.2.0",
            "_view_name": "LayoutView",
            "align_content": null,
            "align_items": null,
            "align_self": null,
            "border": null,
            "bottom": null,
            "display": null,
            "flex": null,
            "flex_flow": null,
            "grid_area": null,
            "grid_auto_columns": null,
            "grid_auto_flow": null,
            "grid_auto_rows": null,
            "grid_column": null,
            "grid_gap": null,
            "grid_row": null,
            "grid_template_areas": null,
            "grid_template_columns": null,
            "grid_template_rows": null,
            "height": null,
            "justify_content": null,
            "justify_items": null,
            "left": null,
            "margin": null,
            "max_height": null,
            "max_width": null,
            "min_height": null,
            "min_width": null,
            "object_fit": null,
            "object_position": null,
            "order": null,
            "overflow": null,
            "overflow_x": null,
            "overflow_y": null,
            "padding": null,
            "right": null,
            "top": null,
            "visibility": null,
            "width": null
          }
        },
        "e77f8b01cdde4c7ba511cc9f2e4181ec": {
          "model_module": "@jupyter-widgets/controls",
          "model_name": "ProgressStyleModel",
          "model_module_version": "1.5.0",
          "state": {
            "_model_module": "@jupyter-widgets/controls",
            "_model_module_version": "1.5.0",
            "_model_name": "ProgressStyleModel",
            "_view_count": null,
            "_view_module": "@jupyter-widgets/base",
            "_view_module_version": "1.2.0",
            "_view_name": "StyleView",
            "bar_color": null,
            "description_width": ""
          }
        },
        "3b5799b174fe4d93ab5cb7236030bae8": {
          "model_module": "@jupyter-widgets/controls",
          "model_name": "VBoxModel",
          "model_module_version": "1.5.0",
          "state": {
            "_dom_classes": [],
            "_model_module": "@jupyter-widgets/controls",
            "_model_module_version": "1.5.0",
            "_model_name": "VBoxModel",
            "_view_count": null,
            "_view_module": "@jupyter-widgets/controls",
            "_view_module_version": "1.5.0",
            "_view_name": "VBoxView",
            "box_style": "",
            "children": [
              "IPY_MODEL_776c643f1ef14d6c8bf4250b61491fd3",
              "IPY_MODEL_29da3c9241b6482f88d1118e11c21b6a"
            ],
            "layout": "IPY_MODEL_eb236ae607bb403d910cace86ca25406"
          }
        },
        "776c643f1ef14d6c8bf4250b61491fd3": {
          "model_module": "@jupyter-widgets/controls",
          "model_name": "LabelModel",
          "model_module_version": "1.5.0",
          "state": {
            "_dom_classes": [],
            "_model_module": "@jupyter-widgets/controls",
            "_model_module_version": "1.5.0",
            "_model_name": "LabelModel",
            "_view_count": null,
            "_view_module": "@jupyter-widgets/controls",
            "_view_module_version": "1.5.0",
            "_view_name": "LabelView",
            "description": "",
            "description_tooltip": null,
            "layout": "IPY_MODEL_61747bc59a7944be911f498119954efc",
            "placeholder": "​",
            "style": "IPY_MODEL_702a997fa65240b3a47c29d932107c11",
            "value": "0.012 MB of 0.012 MB uploaded\r"
          }
        },
        "29da3c9241b6482f88d1118e11c21b6a": {
          "model_module": "@jupyter-widgets/controls",
          "model_name": "FloatProgressModel",
          "model_module_version": "1.5.0",
          "state": {
            "_dom_classes": [],
            "_model_module": "@jupyter-widgets/controls",
            "_model_module_version": "1.5.0",
            "_model_name": "FloatProgressModel",
            "_view_count": null,
            "_view_module": "@jupyter-widgets/controls",
            "_view_module_version": "1.5.0",
            "_view_name": "ProgressView",
            "bar_style": "",
            "description": "",
            "description_tooltip": null,
            "layout": "IPY_MODEL_742d9ea608a74022be9ef49e84f3aa07",
            "max": 1,
            "min": 0,
            "orientation": "horizontal",
            "style": "IPY_MODEL_7b4a5d0450664e3ba853559fb77763b6",
            "value": 1
          }
        },
        "eb236ae607bb403d910cace86ca25406": {
          "model_module": "@jupyter-widgets/base",
          "model_name": "LayoutModel",
          "model_module_version": "1.2.0",
          "state": {
            "_model_module": "@jupyter-widgets/base",
            "_model_module_version": "1.2.0",
            "_model_name": "LayoutModel",
            "_view_count": null,
            "_view_module": "@jupyter-widgets/base",
            "_view_module_version": "1.2.0",
            "_view_name": "LayoutView",
            "align_content": null,
            "align_items": null,
            "align_self": null,
            "border": null,
            "bottom": null,
            "display": null,
            "flex": null,
            "flex_flow": null,
            "grid_area": null,
            "grid_auto_columns": null,
            "grid_auto_flow": null,
            "grid_auto_rows": null,
            "grid_column": null,
            "grid_gap": null,
            "grid_row": null,
            "grid_template_areas": null,
            "grid_template_columns": null,
            "grid_template_rows": null,
            "height": null,
            "justify_content": null,
            "justify_items": null,
            "left": null,
            "margin": null,
            "max_height": null,
            "max_width": null,
            "min_height": null,
            "min_width": null,
            "object_fit": null,
            "object_position": null,
            "order": null,
            "overflow": null,
            "overflow_x": null,
            "overflow_y": null,
            "padding": null,
            "right": null,
            "top": null,
            "visibility": null,
            "width": null
          }
        },
        "61747bc59a7944be911f498119954efc": {
          "model_module": "@jupyter-widgets/base",
          "model_name": "LayoutModel",
          "model_module_version": "1.2.0",
          "state": {
            "_model_module": "@jupyter-widgets/base",
            "_model_module_version": "1.2.0",
            "_model_name": "LayoutModel",
            "_view_count": null,
            "_view_module": "@jupyter-widgets/base",
            "_view_module_version": "1.2.0",
            "_view_name": "LayoutView",
            "align_content": null,
            "align_items": null,
            "align_self": null,
            "border": null,
            "bottom": null,
            "display": null,
            "flex": null,
            "flex_flow": null,
            "grid_area": null,
            "grid_auto_columns": null,
            "grid_auto_flow": null,
            "grid_auto_rows": null,
            "grid_column": null,
            "grid_gap": null,
            "grid_row": null,
            "grid_template_areas": null,
            "grid_template_columns": null,
            "grid_template_rows": null,
            "height": null,
            "justify_content": null,
            "justify_items": null,
            "left": null,
            "margin": null,
            "max_height": null,
            "max_width": null,
            "min_height": null,
            "min_width": null,
            "object_fit": null,
            "object_position": null,
            "order": null,
            "overflow": null,
            "overflow_x": null,
            "overflow_y": null,
            "padding": null,
            "right": null,
            "top": null,
            "visibility": null,
            "width": null
          }
        },
        "702a997fa65240b3a47c29d932107c11": {
          "model_module": "@jupyter-widgets/controls",
          "model_name": "DescriptionStyleModel",
          "model_module_version": "1.5.0",
          "state": {
            "_model_module": "@jupyter-widgets/controls",
            "_model_module_version": "1.5.0",
            "_model_name": "DescriptionStyleModel",
            "_view_count": null,
            "_view_module": "@jupyter-widgets/base",
            "_view_module_version": "1.2.0",
            "_view_name": "StyleView",
            "description_width": ""
          }
        },
        "742d9ea608a74022be9ef49e84f3aa07": {
          "model_module": "@jupyter-widgets/base",
          "model_name": "LayoutModel",
          "model_module_version": "1.2.0",
          "state": {
            "_model_module": "@jupyter-widgets/base",
            "_model_module_version": "1.2.0",
            "_model_name": "LayoutModel",
            "_view_count": null,
            "_view_module": "@jupyter-widgets/base",
            "_view_module_version": "1.2.0",
            "_view_name": "LayoutView",
            "align_content": null,
            "align_items": null,
            "align_self": null,
            "border": null,
            "bottom": null,
            "display": null,
            "flex": null,
            "flex_flow": null,
            "grid_area": null,
            "grid_auto_columns": null,
            "grid_auto_flow": null,
            "grid_auto_rows": null,
            "grid_column": null,
            "grid_gap": null,
            "grid_row": null,
            "grid_template_areas": null,
            "grid_template_columns": null,
            "grid_template_rows": null,
            "height": null,
            "justify_content": null,
            "justify_items": null,
            "left": null,
            "margin": null,
            "max_height": null,
            "max_width": null,
            "min_height": null,
            "min_width": null,
            "object_fit": null,
            "object_position": null,
            "order": null,
            "overflow": null,
            "overflow_x": null,
            "overflow_y": null,
            "padding": null,
            "right": null,
            "top": null,
            "visibility": null,
            "width": null
          }
        },
        "7b4a5d0450664e3ba853559fb77763b6": {
          "model_module": "@jupyter-widgets/controls",
          "model_name": "ProgressStyleModel",
          "model_module_version": "1.5.0",
          "state": {
            "_model_module": "@jupyter-widgets/controls",
            "_model_module_version": "1.5.0",
            "_model_name": "ProgressStyleModel",
            "_view_count": null,
            "_view_module": "@jupyter-widgets/base",
            "_view_module_version": "1.2.0",
            "_view_name": "StyleView",
            "bar_color": null,
            "description_width": ""
          }
        }
      }
    }
  },
  "cells": [
    {
      "cell_type": "code",
      "source": [
        "!pip install wandb"
      ],
      "metadata": {
        "colab": {
          "base_uri": "https://localhost:8080/"
        },
        "id": "Fb_zxrZdNNtZ",
        "outputId": "23bc5aaf-61ff-4269-b050-72c5e3d8eed2"
      },
      "execution_count": 1,
      "outputs": [
        {
          "output_type": "stream",
          "name": "stdout",
          "text": [
            "Collecting wandb\n",
            "  Downloading wandb-0.18.2-py3-none-manylinux_2_17_x86_64.manylinux2014_x86_64.whl.metadata (9.7 kB)\n",
            "Requirement already satisfied: click!=8.0.0,>=7.1 in /usr/local/lib/python3.10/dist-packages (from wandb) (8.1.7)\n",
            "Collecting docker-pycreds>=0.4.0 (from wandb)\n",
            "  Downloading docker_pycreds-0.4.0-py2.py3-none-any.whl.metadata (1.8 kB)\n",
            "Collecting gitpython!=3.1.29,>=1.0.0 (from wandb)\n",
            "  Downloading GitPython-3.1.43-py3-none-any.whl.metadata (13 kB)\n",
            "Requirement already satisfied: platformdirs in /usr/local/lib/python3.10/dist-packages (from wandb) (4.3.6)\n",
            "Requirement already satisfied: protobuf!=4.21.0,!=5.28.0,<6,>=3.19.0 in /usr/local/lib/python3.10/dist-packages (from wandb) (3.20.3)\n",
            "Requirement already satisfied: psutil>=5.0.0 in /usr/local/lib/python3.10/dist-packages (from wandb) (5.9.5)\n",
            "Requirement already satisfied: pyyaml in /usr/local/lib/python3.10/dist-packages (from wandb) (6.0.2)\n",
            "Requirement already satisfied: requests<3,>=2.0.0 in /usr/local/lib/python3.10/dist-packages (from wandb) (2.32.3)\n",
            "Collecting sentry-sdk>=1.0.0 (from wandb)\n",
            "  Downloading sentry_sdk-2.14.0-py2.py3-none-any.whl.metadata (9.7 kB)\n",
            "Collecting setproctitle (from wandb)\n",
            "  Downloading setproctitle-1.3.3-cp310-cp310-manylinux_2_5_x86_64.manylinux1_x86_64.manylinux_2_17_x86_64.manylinux2014_x86_64.whl.metadata (9.9 kB)\n",
            "Requirement already satisfied: setuptools in /usr/local/lib/python3.10/dist-packages (from wandb) (71.0.4)\n",
            "Requirement already satisfied: six>=1.4.0 in /usr/local/lib/python3.10/dist-packages (from docker-pycreds>=0.4.0->wandb) (1.16.0)\n",
            "Collecting gitdb<5,>=4.0.1 (from gitpython!=3.1.29,>=1.0.0->wandb)\n",
            "  Downloading gitdb-4.0.11-py3-none-any.whl.metadata (1.2 kB)\n",
            "Requirement already satisfied: charset-normalizer<4,>=2 in /usr/local/lib/python3.10/dist-packages (from requests<3,>=2.0.0->wandb) (3.3.2)\n",
            "Requirement already satisfied: idna<4,>=2.5 in /usr/local/lib/python3.10/dist-packages (from requests<3,>=2.0.0->wandb) (3.10)\n",
            "Requirement already satisfied: urllib3<3,>=1.21.1 in /usr/local/lib/python3.10/dist-packages (from requests<3,>=2.0.0->wandb) (2.2.3)\n",
            "Requirement already satisfied: certifi>=2017.4.17 in /usr/local/lib/python3.10/dist-packages (from requests<3,>=2.0.0->wandb) (2024.8.30)\n",
            "Collecting smmap<6,>=3.0.1 (from gitdb<5,>=4.0.1->gitpython!=3.1.29,>=1.0.0->wandb)\n",
            "  Downloading smmap-5.0.1-py3-none-any.whl.metadata (4.3 kB)\n",
            "Downloading wandb-0.18.2-py3-none-manylinux_2_17_x86_64.manylinux2014_x86_64.whl (12.8 MB)\n",
            "\u001b[2K   \u001b[90m━━━━━━━━━━━━━━━━━━━━━━━━━━━━━━━━━━━━━━━━\u001b[0m \u001b[32m12.8/12.8 MB\u001b[0m \u001b[31m52.2 MB/s\u001b[0m eta \u001b[36m0:00:00\u001b[0m\n",
            "\u001b[?25hDownloading docker_pycreds-0.4.0-py2.py3-none-any.whl (9.0 kB)\n",
            "Downloading GitPython-3.1.43-py3-none-any.whl (207 kB)\n",
            "\u001b[2K   \u001b[90m━━━━━━━━━━━━━━━━━━━━━━━━━━━━━━━━━━━━━━━━\u001b[0m \u001b[32m207.3/207.3 kB\u001b[0m \u001b[31m14.4 MB/s\u001b[0m eta \u001b[36m0:00:00\u001b[0m\n",
            "\u001b[?25hDownloading sentry_sdk-2.14.0-py2.py3-none-any.whl (311 kB)\n",
            "\u001b[2K   \u001b[90m━━━━━━━━━━━━━━━━━━━━━━━━━━━━━━━━━━━━━━━━\u001b[0m \u001b[32m311.4/311.4 kB\u001b[0m \u001b[31m6.9 MB/s\u001b[0m eta \u001b[36m0:00:00\u001b[0m\n",
            "\u001b[?25hDownloading setproctitle-1.3.3-cp310-cp310-manylinux_2_5_x86_64.manylinux1_x86_64.manylinux_2_17_x86_64.manylinux2014_x86_64.whl (30 kB)\n",
            "Downloading gitdb-4.0.11-py3-none-any.whl (62 kB)\n",
            "\u001b[2K   \u001b[90m━━━━━━━━━━━━━━━━━━━━━━━━━━━━━━━━━━━━━━━━\u001b[0m \u001b[32m62.7/62.7 kB\u001b[0m \u001b[31m3.7 MB/s\u001b[0m eta \u001b[36m0:00:00\u001b[0m\n",
            "\u001b[?25hDownloading smmap-5.0.1-py3-none-any.whl (24 kB)\n",
            "Installing collected packages: smmap, setproctitle, sentry-sdk, docker-pycreds, gitdb, gitpython, wandb\n",
            "Successfully installed docker-pycreds-0.4.0 gitdb-4.0.11 gitpython-3.1.43 sentry-sdk-2.14.0 setproctitle-1.3.3 smmap-5.0.1 wandb-0.18.2\n"
          ]
        }
      ]
    },
    {
      "cell_type": "code",
      "execution_count": 2,
      "metadata": {
        "id": "CYc5qefSxnC2"
      },
      "outputs": [],
      "source": [
        "import yfinance as yf\n",
        "import torch\n",
        "import torch.nn as nn\n",
        "from sklearn.model_selection import train_test_split\n",
        "from sklearn.preprocessing import MinMaxScaler\n",
        "import numpy as np\n",
        "import matplotlib.pyplot as plt\n",
        "\n",
        "torch.manual_seed(0)\n",
        "device = 'cuda' if torch.cuda.is_available() else 'cpu'"
      ]
    },
    {
      "cell_type": "code",
      "source": [
        "import wandb\n",
        "\n",
        "wandb.login()"
      ],
      "metadata": {
        "colab": {
          "base_uri": "https://localhost:8080/",
          "height": 136
        },
        "id": "TZjeOrPKZavr",
        "outputId": "83ae08dd-6a93-41f0-e59e-30deb1c137e3"
      },
      "execution_count": 3,
      "outputs": [
        {
          "output_type": "stream",
          "name": "stderr",
          "text": [
            "\u001b[34m\u001b[1mwandb\u001b[0m: Using wandb-core as the SDK backend. Please refer to https://wandb.me/wandb-core for more information.\n"
          ]
        },
        {
          "output_type": "display_data",
          "data": {
            "text/plain": [
              "<IPython.core.display.Javascript object>"
            ],
            "application/javascript": [
              "\n",
              "        window._wandbApiKey = new Promise((resolve, reject) => {\n",
              "            function loadScript(url) {\n",
              "            return new Promise(function(resolve, reject) {\n",
              "                let newScript = document.createElement(\"script\");\n",
              "                newScript.onerror = reject;\n",
              "                newScript.onload = resolve;\n",
              "                document.body.appendChild(newScript);\n",
              "                newScript.src = url;\n",
              "            });\n",
              "            }\n",
              "            loadScript(\"https://cdn.jsdelivr.net/npm/postmate/build/postmate.min.js\").then(() => {\n",
              "            const iframe = document.createElement('iframe')\n",
              "            iframe.style.cssText = \"width:0;height:0;border:none\"\n",
              "            document.body.appendChild(iframe)\n",
              "            const handshake = new Postmate({\n",
              "                container: iframe,\n",
              "                url: 'https://wandb.ai/authorize'\n",
              "            });\n",
              "            const timeout = setTimeout(() => reject(\"Couldn't auto authenticate\"), 5000)\n",
              "            handshake.then(function(child) {\n",
              "                child.on('authorize', data => {\n",
              "                    clearTimeout(timeout)\n",
              "                    resolve(data)\n",
              "                });\n",
              "            });\n",
              "            })\n",
              "        });\n",
              "    "
            ]
          },
          "metadata": {}
        },
        {
          "output_type": "stream",
          "name": "stderr",
          "text": [
            "\u001b[34m\u001b[1mwandb\u001b[0m: Logging into wandb.ai. (Learn how to deploy a W&B server locally: https://wandb.me/wandb-server)\n",
            "\u001b[34m\u001b[1mwandb\u001b[0m: You can find your API key in your browser here: https://wandb.ai/authorize\n",
            "wandb: Paste an API key from your profile and hit enter, or press ctrl+c to quit:"
          ]
        },
        {
          "name": "stdout",
          "output_type": "stream",
          "text": [
            " ··········\n"
          ]
        },
        {
          "output_type": "stream",
          "name": "stderr",
          "text": [
            "\u001b[34m\u001b[1mwandb\u001b[0m: Appending key for api.wandb.ai to your netrc file: /root/.netrc\n"
          ]
        },
        {
          "output_type": "execute_result",
          "data": {
            "text/plain": [
              "True"
            ]
          },
          "metadata": {},
          "execution_count": 3
        }
      ]
    },
    {
      "cell_type": "code",
      "source": [
        "\"\"\"\n",
        "Methodology:\n",
        "\n",
        "I lack the time to explore different design options, so in case you were wondering \"why do this?\" it's mostly arbitrary lol. I don't have time to justify or evaulate reasons\n",
        "beyond LSTM = probably good for timeseries prediction idk. I generally try to follow ML/RL conventions but besides that not much of a design process.\n",
        "\n",
        "We'll define the available actions to an agent as either \"buy\", \"sell\", or \"hold\" so our portfolio will always consist of some combination of liquid cash and stock.\n",
        "We'll start with a capital of $10k.\n",
        "We'll use something similar to a n-step temporal difference, where we attempt to look into the future to predict expected reward.\n",
        "However, rather than reward, we'll be predicting the price values using a pre-trained LSTM. This is a little different from the papers, since they use a relative price vector.\n",
        "Naturally, as we look further into the future, our LSTM prediction will be become\n",
        "less and less accurate. We'll need to retrain our LSTM with the updated data periodically (every M timesteps) in the real world - however, since we already have all\n",
        "the historical pricing, we'll pretrain the LSTM and the agent first, and evaluate the test data as though it were a single interval, ie timesteps < M (no retraining).\n",
        "Define the reward functions as the rate of return compared to the previous timestep.\n",
        "No transaction fee will be included.\n",
        "\n",
        "Intuition: LSTM will predict prices, RL agent will take predictions as state and learn when to sell/buy based on reward (ROR)\n",
        "\"\"\"\n",
        "\n",
        "class Stonk:\n",
        "    \"\"\"Serves as both a wrapper class for yfinance Tickers and a dataloader for prices.\"\"\"\n",
        "    def __init__(self, symbol: str, seq_length: int, features: list[str] = ['Close', 'Open', 'High', 'Low']):\n",
        "        self.stonk = yf.Ticker(symbol)\n",
        "        self.hist = self.stonk.history(period=\"max\")\n",
        "\n",
        "        # normalize the price features\n",
        "        # unlike the paper we normalize using the standard method (see https://scikit-learn.org/stable/modules/generated/sklearn.preprocessing.MinMaxScaler.html)\n",
        "        # not completely sure how the papers handle the first datapoint for each stock, since there's no previous price to normalize by\n",
        "        self.scaler = MinMaxScaler()\n",
        "        normalized_features = self.scaler.fit_transform(self.hist[features])\n",
        "        for i, column in enumerate(features):\n",
        "            self.hist[f'Normalized_{column}'] = normalized_features[:, i]\n",
        "\n",
        "        self.hist.reset_index(inplace=True)\n",
        "\n",
        "        # set price tensor to closing prices only - we'll train on just this feature for now\n",
        "        # the column is by default a numpy array with dim (T), where T is total length of history aka time\n",
        "        # reshaping is done based on input size to the LSTM - since we only train on single feature, our input size is 1\n",
        "        self.prices = self.hist['Normalized_Close'].values.reshape(-1, 1) # reshape to dim (T, 1)\n",
        "\n",
        "        # data preprocessing\n",
        "        # L - sequence length\n",
        "        # T - time\n",
        "        sequences = []\n",
        "        labels = []\n",
        "        for i in range(len(self.prices) - seq_length):\n",
        "            seq = self.prices[i:i + seq_length]\n",
        "            label = self.prices[i + seq_length]\n",
        "            sequences.append(seq)\n",
        "            labels.append(label)\n",
        "\n",
        "        sequences = np.array(sequences) # (T, L, 1)\n",
        "        labels = np.array(labels) # (T, 1)\n",
        "\n",
        "        # split 75/25 train/test\n",
        "        # note that T still represents time, but is now split across train/test\n",
        "        # shuffle=False guarantees chronological order\n",
        "        # the first 75% of the history is training, last 25% is test\n",
        "        # this distribution definitely has some issues but would take too much time to fix\n",
        "        dataset = train_test_split(sequences, labels, shuffle=False) # [(T, L, 1), (T, L, 1), (T, 1), (T, 1)]\n",
        "        dataset = [torch.tensor(data_split, dtype=torch.float32, device=device) for data_split in dataset]\n",
        "\n",
        "        # X - data\n",
        "        # Y - label\n",
        "        self.x_train, self.x_test, self.y_train, self.y_test = dataset\n"
      ],
      "metadata": {
        "id": "8VWu1jY-GULC"
      },
      "execution_count": 4,
      "outputs": []
    },
    {
      "cell_type": "code",
      "source": [
        "class LSTM(nn.Module):\n",
        "    \"\"\"standard lstm implementation\"\"\"\n",
        "    def __init__(self, input_dim, hidden_dim, num_layers, output_dim):\n",
        "        super().__init__()\n",
        "        self.num_layers = num_layers\n",
        "        self.hidden_dim = hidden_dim\n",
        "        self.lstm = nn.LSTM(input_size=input_dim, hidden_size=hidden_dim, num_layers=num_layers, batch_first=True)\n",
        "        self.fc = nn.Linear(hidden_dim, output_dim)\n",
        "\n",
        "    def forward(self, x):\n",
        "        # hidden state (h0) and cell state (c0) initialization\n",
        "        h0 = torch.zeros(self.num_layers, x.size(0), self.hidden_dim, device=device)\n",
        "        c0 = torch.zeros(self.num_layers, x.size(0), self.hidden_dim, device=device)\n",
        "\n",
        "        out, _ = self.lstm(x, (h0, c0))\n",
        "\n",
        "        out = out[:, -1, :] # only pass hidden states from the last timestep\n",
        "\n",
        "        return self.fc(out)"
      ],
      "metadata": {
        "id": "gW6qcNIvXALk"
      },
      "execution_count": 5,
      "outputs": []
    },
    {
      "cell_type": "code",
      "source": [
        "# HYPERPARAMS\n",
        "seq_length = 50\n",
        "num_epochs = 300\n",
        "hidden_size = 128\n",
        "num_layers = 2\n",
        "output_size = 1\n",
        "input_size = 1\n",
        "learning_rate = 0.001\n",
        "\n",
        "run = wandb.init(\n",
        "    project=\"test-stonk\",\n",
        "    # name=\"test-lstm-init1\",\n",
        "    config={\n",
        "        \"learning_rate\": learning_rate,\n",
        "        \"epochs\": num_epochs,\n",
        "        \"seq_length\": seq_length,\n",
        "        \"hidden_size\": hidden_size,\n",
        "        \"num_layers\": num_layers,\n",
        "        \"output_size\": output_size,\n",
        "        \"input_size\": input_size\n",
        "    }\n",
        ")"
      ],
      "metadata": {
        "id": "8PQ4bo5BZyqB",
        "colab": {
          "base_uri": "https://localhost:8080/",
          "height": 321,
          "referenced_widgets": [
            "700159c1de534f66a7d410e717935de1",
            "b94e9be443f34b3ea381f733e150c4d2",
            "e055f63b50ac452cac312106faa71282",
            "802651bf0df1485f89407e5ab4d6a171",
            "5b7d5568f9954a0398c196268d10f2f2",
            "1c376f556382415cb36a1c7b6447ec50",
            "e2960e5b324644f984559d798de7ff19",
            "620794c63aa04064a8323bcd4e39d6a8"
          ]
        },
        "outputId": "835d5429-37d6-40bb-d224-6bca3146bf24"
      },
      "execution_count": 19,
      "outputs": [
        {
          "output_type": "display_data",
          "data": {
            "text/plain": [
              "<IPython.core.display.HTML object>"
            ],
            "text/html": [
              "Finishing last run (ID:p852isrr) before initializing another..."
            ]
          },
          "metadata": {}
        },
        {
          "output_type": "display_data",
          "data": {
            "text/plain": [
              "VBox(children=(Label(value='0.012 MB of 0.012 MB uploaded\\r'), FloatProgress(value=1.0, max=1.0)))"
            ],
            "application/vnd.jupyter.widget-view+json": {
              "version_major": 2,
              "version_minor": 0,
              "model_id": "700159c1de534f66a7d410e717935de1"
            }
          },
          "metadata": {}
        },
        {
          "output_type": "display_data",
          "data": {
            "text/plain": [
              "<IPython.core.display.HTML object>"
            ],
            "text/html": [
              "<style>\n",
              "    table.wandb td:nth-child(1) { padding: 0 10px; text-align: left ; width: auto;} td:nth-child(2) {text-align: left ; width: 100%}\n",
              "    .wandb-row { display: flex; flex-direction: row; flex-wrap: wrap; justify-content: flex-start; width: 100% }\n",
              "    .wandb-col { display: flex; flex-direction: column; flex-basis: 100%; flex: 1; padding: 10px; }\n",
              "    </style>\n",
              "<div class=\"wandb-row\"><div class=\"wandb-col\"><h3>Run history:</h3><br/><table class=\"wandb\"><tr><td>loss</td><td>██▇▇▇▇▆▆▆▆▅▅▅▅▄▄▄▃▃▃▂▂▂▂▁▁</td></tr></table><br/></div><div class=\"wandb-col\"><h3>Run summary:</h3><br/><table class=\"wandb\"><tr><td>loss</td><td>0.0</td></tr></table><br/></div></div>"
            ]
          },
          "metadata": {}
        },
        {
          "output_type": "display_data",
          "data": {
            "text/plain": [
              "<IPython.core.display.HTML object>"
            ],
            "text/html": [
              " View run <strong style=\"color:#cdcd00\">test-lstm-init1</strong> at: <a href='https://wandb.ai/jesse-personal/test-stonk/runs/p852isrr' target=\"_blank\">https://wandb.ai/jesse-personal/test-stonk/runs/p852isrr</a><br/> View project at: <a href='https://wandb.ai/jesse-personal/test-stonk' target=\"_blank\">https://wandb.ai/jesse-personal/test-stonk</a><br/>Synced 5 W&B file(s), 0 media file(s), 0 artifact file(s) and 0 other file(s)"
            ]
          },
          "metadata": {}
        },
        {
          "output_type": "display_data",
          "data": {
            "text/plain": [
              "<IPython.core.display.HTML object>"
            ],
            "text/html": [
              "Find logs at: <code>./wandb/run-20240927_215854-p852isrr/logs</code>"
            ]
          },
          "metadata": {}
        },
        {
          "output_type": "display_data",
          "data": {
            "text/plain": [
              "<IPython.core.display.HTML object>"
            ],
            "text/html": [
              "Successfully finished last run (ID:p852isrr). Initializing new run:<br/>"
            ]
          },
          "metadata": {}
        },
        {
          "output_type": "display_data",
          "data": {
            "text/plain": [
              "<IPython.core.display.HTML object>"
            ],
            "text/html": [
              "Tracking run with wandb version 0.18.2"
            ]
          },
          "metadata": {}
        },
        {
          "output_type": "display_data",
          "data": {
            "text/plain": [
              "<IPython.core.display.HTML object>"
            ],
            "text/html": [
              "Run data is saved locally in <code>/content/wandb/run-20240927_220045-ozdjgcrt</code>"
            ]
          },
          "metadata": {}
        },
        {
          "output_type": "display_data",
          "data": {
            "text/plain": [
              "<IPython.core.display.HTML object>"
            ],
            "text/html": [
              "Syncing run <strong><a href='https://wandb.ai/jesse-personal/test-stonk/runs/ozdjgcrt' target=\"_blank\">rosy-pond-4</a></strong> to <a href='https://wandb.ai/jesse-personal/test-stonk' target=\"_blank\">Weights & Biases</a> (<a href='https://wandb.me/run' target=\"_blank\">docs</a>)<br/>"
            ]
          },
          "metadata": {}
        },
        {
          "output_type": "display_data",
          "data": {
            "text/plain": [
              "<IPython.core.display.HTML object>"
            ],
            "text/html": [
              " View project at <a href='https://wandb.ai/jesse-personal/test-stonk' target=\"_blank\">https://wandb.ai/jesse-personal/test-stonk</a>"
            ]
          },
          "metadata": {}
        },
        {
          "output_type": "display_data",
          "data": {
            "text/plain": [
              "<IPython.core.display.HTML object>"
            ],
            "text/html": [
              " View run at <a href='https://wandb.ai/jesse-personal/test-stonk/runs/ozdjgcrt' target=\"_blank\">https://wandb.ai/jesse-personal/test-stonk/runs/ozdjgcrt</a>"
            ]
          },
          "metadata": {}
        }
      ]
    },
    {
      "cell_type": "code",
      "source": [
        "msft = Stonk(\"MSFT\", seq_length, features=['Close'])"
      ],
      "metadata": {
        "id": "dHP8BH0oihu-"
      },
      "execution_count": 9,
      "outputs": []
    },
    {
      "cell_type": "code",
      "source": [
        "plt.figure(figsize=(6, 3))\n",
        "plt.plot(msft.hist['Date'], msft.hist['Close'], label='Close', color='blue')\n",
        "plt.xlabel('Date')\n",
        "plt.ylabel('Price')\n",
        "plt.title('MSFT Closing Price')\n",
        "plt.legend()\n",
        "\n",
        "plt.tight_layout()\n",
        "plt.show()"
      ],
      "metadata": {
        "colab": {
          "base_uri": "https://localhost:8080/",
          "height": 307
        },
        "id": "op3ZIdbcijQk",
        "outputId": "469f4387-99cb-453e-a9c0-8c69a051366d"
      },
      "execution_count": 10,
      "outputs": [
        {
          "output_type": "display_data",
          "data": {
            "text/plain": [
              "<Figure size 600x300 with 1 Axes>"
            ],
            "image/png": "[encoded data removed]"
          },
          "metadata": {}
        }
      ]
    },
    {
      "cell_type": "code",
      "source": [
        "lstm = LSTM(input_size, hidden_size, num_layers, output_size)\n",
        "lstm.to(device)\n",
        "criterion = nn.MSELoss()\n",
        "optimizer = torch.optim.AdamW(lstm.parameters(), lr=learning_rate)"
      ],
      "metadata": {
        "id": "LcLM-tjgXDan"
      },
      "execution_count": 20,
      "outputs": []
    },
    {
      "cell_type": "code",
      "source": [
        "msft.x_test.shape # shape should be (T, seq_length, 1)"
      ],
      "metadata": {
        "colab": {
          "base_uri": "https://localhost:8080/"
        },
        "id": "2CPOBq8rYuYo",
        "outputId": "741544be-78d6-4ae3-b968-44c5881f5e1e"
      },
      "execution_count": 12,
      "outputs": [
        {
          "output_type": "execute_result",
          "data": {
            "text/plain": [
              "torch.Size([2416, 50, 1])"
            ]
          },
          "metadata": {},
          "execution_count": 12
        }
      ]
    },
    {
      "cell_type": "code",
      "source": [
        "result = lstm(msft.x_train) # test prediction\n",
        "result"
      ],
      "metadata": {
        "colab": {
          "base_uri": "https://localhost:8080/"
        },
        "id": "pnxTVB2RXnj_",
        "outputId": "047ea9cd-affa-4a20-e461-fa69b4aa336c"
      },
      "execution_count": 21,
      "outputs": [
        {
          "output_type": "execute_result",
          "data": {
            "text/plain": [
              "tensor([[-0.0007],\n",
              "        [-0.0007],\n",
              "        [-0.0007],\n",
              "        ...,\n",
              "        [-0.0001],\n",
              "        [-0.0001],\n",
              "        [-0.0001]], device='cuda:0', grad_fn=<AddmmBackward0>)"
            ]
          },
          "metadata": {},
          "execution_count": 21
        }
      ]
    },
    {
      "cell_type": "code",
      "source": [
        "plt.figure(figsize=(6, 3))\n",
        "plt.plot(np.concatenate((msft.y_train.cpu().numpy(), msft.y_test.cpu().numpy())), label='Actual')\n",
        "plt.plot(result.cpu().detach().numpy(), label='Prediction')\n",
        "plt.xlabel('Time')\n",
        "plt.ylabel('Normalized Price')\n",
        "plt.title('MSFT Stock Price Prediction (Before Training)')\n",
        "plt.legend()\n",
        "plt.show()"
      ],
      "metadata": {
        "colab": {
          "base_uri": "https://localhost:8080/",
          "height": 333
        },
        "id": "hXpB7X-aIj2B",
        "outputId": "bcdd5352-b7fa-42db-e0f0-7741245719a2"
      },
      "execution_count": 22,
      "outputs": [
        {
          "output_type": "display_data",
          "data": {
            "text/plain": [
              "<Figure size 600x300 with 1 Axes>"
            ],
            "image/png": "[encoded data removed]"
          },
          "metadata": {}
        }
      ]
    },
    {
      "cell_type": "code",
      "source": [
        "from decimal import Decimal\n",
        "\n",
        "for epoch in range(num_epochs):\n",
        "    outputs = lstm(msft.x_train)\n",
        "    loss = criterion(outputs, msft.y_train)\n",
        "\n",
        "    optimizer.zero_grad()\n",
        "    loss.backward()\n",
        "    optimizer.step()\n",
        "\n",
        "    run.log({\"loss\": loss.item()})\n",
        "    if (epoch + 1) % 10 == 0:\n",
        "        print(f'Epoch [{epoch+1}/{num_epochs}], Loss: {Decimal(loss.item()):.10e}')\n",
        "\n",
        "# overfitted but whatever"
      ],
      "metadata": {
        "colab": {
          "base_uri": "https://localhost:8080/"
        },
        "id": "Ve6e5LnrZI8r",
        "outputId": "3db48739-f45e-4420-82f1-118f92c5b429"
      },
      "execution_count": 23,
      "outputs": [
        {
          "output_type": "stream",
          "name": "stdout",
          "text": [
            "Epoch [10/300], Loss: 5.1320932107e-4\n",
            "Epoch [20/300], Loss: 5.3818122251e-4\n",
            "Epoch [30/300], Loss: 4.7105096746e-4\n",
            "Epoch [40/300], Loss: 4.4912495650e-4\n",
            "Epoch [50/300], Loss: 3.7793396041e-4\n",
            "Epoch [60/300], Loss: 8.4770923422e-5\n",
            "Epoch [70/300], Loss: 6.4252679294e-5\n",
            "Epoch [80/300], Loss: 3.7389854697e-5\n",
            "Epoch [90/300], Loss: 1.6782874809e-5\n",
            "Epoch [100/300], Loss: 6.0300308178e-6\n",
            "Epoch [110/300], Loss: 3.8103351017e-6\n",
            "Epoch [120/300], Loss: 3.1696772567e-6\n",
            "Epoch [130/300], Loss: 3.0029693789e-6\n",
            "Epoch [140/300], Loss: 2.9036414162e-6\n",
            "Epoch [150/300], Loss: 2.8269514587e-6\n",
            "Epoch [160/300], Loss: 2.8060112527e-6\n",
            "Epoch [170/300], Loss: 2.7958772080e-6\n",
            "Epoch [180/300], Loss: 2.7833766580e-6\n",
            "Epoch [190/300], Loss: 2.7725682230e-6\n",
            "Epoch [200/300], Loss: 2.7622754715e-6\n",
            "Epoch [210/300], Loss: 2.7519542982e-6\n",
            "Epoch [220/300], Loss: 2.7417813726e-6\n",
            "Epoch [230/300], Loss: 2.7316723390e-6\n",
            "Epoch [240/300], Loss: 2.7215735372e-6\n",
            "Epoch [250/300], Loss: 2.7114865588e-6\n",
            "Epoch [260/300], Loss: 2.7013902582e-6\n",
            "Epoch [270/300], Loss: 2.6912807698e-6\n",
            "Epoch [280/300], Loss: 2.6811533189e-6\n",
            "Epoch [290/300], Loss: 2.6710029033e-6\n",
            "Epoch [300/300], Loss: 2.6608277039e-6\n"
          ]
        }
      ]
    },
    {
      "cell_type": "code",
      "source": [
        "run.finish()"
      ],
      "metadata": {
        "colab": {
          "base_uri": "https://localhost:8080/",
          "height": 85,
          "referenced_widgets": [
            "e6d346d1bf9d4ca095c76e6e74308df8",
            "54d85d2998b8461d935cf97b0ff774a5",
            "b64a15ce8bf7443bb242715acf345f77",
            "0619c42f098c498a847326fe61cb763e",
            "06813e3d5c5c49b190e2cfbde000ab1d",
            "2fd914ad5ba24f1e9905ea76a1256741",
            "9061cee0366a44dfad44b8fda0cf31dc",
            "e77f8b01cdde4c7ba511cc9f2e4181ec"
          ]
        },
        "id": "8Sa9kOkQiDsw",
        "outputId": "8f941d74-8395-47f4-fe26-66f3f4dfc616"
      },
      "execution_count": 36,
      "outputs": [
        {
          "output_type": "display_data",
          "data": {
            "text/plain": [
              "VBox(children=(Label(value='0.011 MB of 0.011 MB uploaded\\r'), FloatProgress(value=1.0, max=1.0)))"
            ],
            "application/vnd.jupyter.widget-view+json": {
              "version_major": 2,
              "version_minor": 0,
              "model_id": "e6d346d1bf9d4ca095c76e6e74308df8"
            }
          },
          "metadata": {}
        },
        {
          "output_type": "display_data",
          "data": {
            "text/plain": [
              "<IPython.core.display.HTML object>"
            ],
            "text/html": [
              " View run <strong style=\"color:#cdcd00\">comfy-galaxy-5</strong> at: <a href='https://wandb.ai/jesse-personal/test-stonk/runs/ak1i096b' target=\"_blank\">https://wandb.ai/jesse-personal/test-stonk/runs/ak1i096b</a><br/> View project at: <a href='https://wandb.ai/jesse-personal/test-stonk' target=\"_blank\">https://wandb.ai/jesse-personal/test-stonk</a><br/>Synced 5 W&B file(s), 0 media file(s), 0 artifact file(s) and 0 other file(s)"
            ]
          },
          "metadata": {}
        },
        {
          "output_type": "display_data",
          "data": {
            "text/plain": [
              "<IPython.core.display.HTML object>"
            ],
            "text/html": [
              "Find logs at: <code>./wandb/run-20240927_221045-ak1i096b/logs</code>"
            ]
          },
          "metadata": {}
        }
      ]
    },
    {
      "cell_type": "code",
      "source": [
        "\"\"\"\n",
        "This evaluation method isn't the greatest, def has issues but can be fixed later\n",
        "\"\"\"\n",
        "with torch.no_grad():\n",
        "    test_predictions = lstm(msft.x_test)\n",
        "    test_loss = criterion(test_predictions, msft.y_test)\n",
        "    print(f'Test Loss: {test_loss.item():.4f}')\n",
        "    print(test_predictions.cpu().squeeze(1).numpy().shape)\n",
        "    # Inverse transform the predicted and actual values to get original stock prices\n",
        "    predicted_stock_price = msft.scaler.inverse_transform(test_predictions.cpu().numpy())\n",
        "    actual_stock_price = msft.scaler.inverse_transform(msft.y_test.cpu().numpy().reshape(-1, 1))\n",
        "\n",
        "# 7. Plotting the results\n",
        "plt.figure(figsize=(6, 6))\n",
        "plt.plot(actual_stock_price, label=\"Actual MSFT Stock Price\")\n",
        "plt.plot(predicted_stock_price, label=\"Predicted MSFT Stock Price\")\n",
        "plt.xlabel('Days')\n",
        "plt.ylabel('Stock Price')\n",
        "plt.legend()\n",
        "plt.show()"
      ],
      "metadata": {
        "colab": {
          "base_uri": "https://localhost:8080/",
          "height": 576
        },
        "id": "GFqTknELKaY9",
        "outputId": "5a7c6c4e-7f38-4f21-e7d9-93c733751f8a"
      },
      "execution_count": 27,
      "outputs": [
        {
          "output_type": "stream",
          "name": "stdout",
          "text": [
            "Test Loss: 0.0085\n",
            "(2416,)\n"
          ]
        },
        {
          "output_type": "display_data",
          "data": {
            "text/plain": [
              "<Figure size 600x600 with 1 Axes>"
            ],
            "image/png": "[encoded data removed]"
          },
          "metadata": {}
        }
      ]
    },
    {
      "cell_type": "code",
      "source": [
        "import torch.optim as optim\n",
        "import torch.nn.functional as F\n",
        "\n",
        "class Actor(nn.Module):\n",
        "    def __init__(self, n_obs, layer_size, n_actions):\n",
        "        super().__init__()\n",
        "        self.l1 = nn.Linear(n_obs, 64)\n",
        "        self.l2 = nn.Linear(64, n_actions)\n",
        "\n",
        "    def forward(self, x):\n",
        "        x = F.relu(self.l1(x))\n",
        "        return self.l2(x)\n",
        "\n",
        "predicted_prices = lstm(msft.x_train).detach()\n",
        "actual_stock_price = msft.scaler.inverse_transform(msft.y_train.cpu().numpy().reshape(-1, 1)).squeeze(1)\n",
        "actual_stock_price"
      ],
      "metadata": {
        "colab": {
          "base_uri": "https://localhost:8080/"
        },
        "id": "xmVLKZx0ngTx",
        "outputId": "df22440d-cb07-4810-d037-9ac5f8316895"
      },
      "execution_count": 49,
      "outputs": [
        {
          "output_type": "execute_result",
          "data": {
            "text/plain": [
              "array([ 0.06636955,  0.06851035,  0.07065117, ..., 37.694275  ,\n",
              "       38.00622   , 38.257523  ], dtype=float32)"
            ]
          },
          "metadata": {},
          "execution_count": 49
        }
      ]
    },
    {
      "cell_type": "code",
      "source": [
        "# HYPERPARAMS\n",
        "window_size = 10\n",
        "num_epochs = 5\n",
        "layer_size = 64\n",
        "learning_rate = 0.001\n",
        "starting_capital = 10000\n",
        "gamma = 0.99\n",
        "trading_quantity = 10\n",
        "\n",
        "run = wandb.init(\n",
        "    project=\"test-stonk\",\n",
        "    config={\n",
        "        \"window_size\": window_size,\n",
        "        \"epochs\": num_epochs,\n",
        "        \"layer_size\": layer_size,\n",
        "        \"learning_rate\": learning_rate,\n",
        "        \"initial_portfolio_value\": starting_capital,\n",
        "        \"gamma\": gamma,\n",
        "        \"trading_quantity\": trading_quantity\n",
        "    }\n",
        ")"
      ],
      "metadata": {
        "id": "t9utBSBatoEX",
        "colab": {
          "base_uri": "https://localhost:8080/",
          "height": 102
        },
        "outputId": "bc977891-d19b-4ca8-c52e-204c45f7562d"
      },
      "execution_count": 50,
      "outputs": [
        {
          "output_type": "display_data",
          "data": {
            "text/plain": [
              "<IPython.core.display.HTML object>"
            ],
            "text/html": [
              "Tracking run with wandb version 0.18.2"
            ]
          },
          "metadata": {}
        },
        {
          "output_type": "display_data",
          "data": {
            "text/plain": [
              "<IPython.core.display.HTML object>"
            ],
            "text/html": [
              "Run data is saved locally in <code>/content/wandb/run-20240927_223142-6fi7fs8c</code>"
            ]
          },
          "metadata": {}
        },
        {
          "output_type": "display_data",
          "data": {
            "text/plain": [
              "<IPython.core.display.HTML object>"
            ],
            "text/html": [
              "Syncing run <strong><a href='https://wandb.ai/jesse-personal/test-stonk/runs/6fi7fs8c' target=\"_blank\">graceful-brook-7</a></strong> to <a href='https://wandb.ai/jesse-personal/test-stonk' target=\"_blank\">Weights & Biases</a> (<a href='https://wandb.me/run' target=\"_blank\">docs</a>)<br/>"
            ]
          },
          "metadata": {}
        },
        {
          "output_type": "display_data",
          "data": {
            "text/plain": [
              "<IPython.core.display.HTML object>"
            ],
            "text/html": [
              " View project at <a href='https://wandb.ai/jesse-personal/test-stonk' target=\"_blank\">https://wandb.ai/jesse-personal/test-stonk</a>"
            ]
          },
          "metadata": {}
        },
        {
          "output_type": "display_data",
          "data": {
            "text/plain": [
              "<IPython.core.display.HTML object>"
            ],
            "text/html": [
              " View run at <a href='https://wandb.ai/jesse-personal/test-stonk/runs/6fi7fs8c' target=\"_blank\">https://wandb.ai/jesse-personal/test-stonk/runs/6fi7fs8c</a>"
            ]
          },
          "metadata": {}
        }
      ]
    },
    {
      "cell_type": "code",
      "source": [
        "policy = Actor(window_size, layer_size, 3) # for simplicity we will discretize the actions in fixed quantities of 10\n",
        "# we will also fix the window size at 10 timesteps\n",
        "policy.to(device)\n",
        "optimizer = optim.AdamW(policy.parameters(), lr=learning_rate)\n",
        "policy"
      ],
      "metadata": {
        "colab": {
          "base_uri": "https://localhost:8080/"
        },
        "id": "dV72SCMboEhu",
        "outputId": "ea920409-59ea-48a2-9f04-0993069a88c6"
      },
      "execution_count": 51,
      "outputs": [
        {
          "output_type": "execute_result",
          "data": {
            "text/plain": [
              "Actor(\n",
              "  (l1): Linear(in_features=10, out_features=64, bias=True)\n",
              "  (l2): Linear(in_features=64, out_features=3, bias=True)\n",
              ")"
            ]
          },
          "metadata": {},
          "execution_count": 51
        }
      ]
    },
    {
      "cell_type": "code",
      "source": [
        "first_epoch = {\n",
        "    \"actions\": [],\n",
        "    \"portfolio_value\": []\n",
        "}\n",
        "last_epoch = {\n",
        "    \"actions\": [],\n",
        "    \"portfolio_value\": []\n",
        "}"
      ],
      "metadata": {
        "id": "F7UzZkSsyERd"
      },
      "execution_count": 52,
      "outputs": []
    },
    {
      "cell_type": "code",
      "source": [
        "from torch.distributions import Categorical\n",
        "from collections import deque\n",
        "\n",
        "for epoch in range(num_epochs):\n",
        "  rewards_history = []\n",
        "  log_probs_history = []\n",
        "  total_rewards = deque([])\n",
        "  action_history = []\n",
        "  portfolio_value_history = []\n",
        "  portfolio = {\n",
        "    'stock': 0,\n",
        "    'cash': starting_capital\n",
        "  }\n",
        "\n",
        "  for i in range(1, len(predicted_prices) - window_size):\n",
        "      state = predicted_prices[i:i + window_size].view(1, -1)\n",
        "      # print(state.shape)\n",
        "      logits = policy(state)\n",
        "      # print(state)\n",
        "      # print(logits)\n",
        "\n",
        "      action_distr = Categorical(logits=logits)\n",
        "      action = action_distr.sample()\n",
        "\n",
        "      # print(action)\n",
        "      log_probs_history.append(action_distr.log_prob(action))\n",
        "\n",
        "      prev_portfolio_value = portfolio['cash'] + portfolio['stock'] * actual_stock_price[i - 1]\n",
        "\n",
        "      if action == 0:\n",
        "          # sell\n",
        "          if portfolio['stock'] >= trading_quantity:\n",
        "              portfolio['cash'] += actual_stock_price[i] * trading_quantity\n",
        "              portfolio['stock'] -= trading_quantity\n",
        "      elif action == 1:\n",
        "          # buy\n",
        "          if portfolio['cash'] >= trading_quantity * actual_stock_price[i]:\n",
        "              portfolio['cash'] -= actual_stock_price[i] * trading_quantity\n",
        "              portfolio['stock'] += trading_quantity\n",
        "      elif action == 2:\n",
        "          # hold\n",
        "          pass\n",
        "      # print(portfolio)\n",
        "      action_history.append(action)\n",
        "\n",
        "      new_portfolio_value = portfolio['cash'] + portfolio['stock'] * actual_stock_price[i]\n",
        "\n",
        "      # calculate reward\n",
        "      reward = (new_portfolio_value) / prev_portfolio_value - 1\n",
        "      # print(reward)\n",
        "      rewards_history.append(reward)\n",
        "      total_rewards.append(reward)\n",
        "\n",
        "      portfolio_value_history.append(new_portfolio_value) # record portfolio value\n",
        "\n",
        "      if (i + 1) % window_size == 0:  # Update policy every window_size number of steps\n",
        "\n",
        "          discounted_reward = 0\n",
        "          for r in rewards_history[::-1]:\n",
        "              # computes the discounted reward at that timestep\n",
        "              # assuming we have rewards = [1, 1, 1, 1]\n",
        "              # our total rewards would be [3.439, 2.71, 1.9, 1] representing all future rewards\n",
        "              # obtained by the agent starting from that timestep\n",
        "              discounted_reward = r + gamma * discounted_reward\n",
        "              total_rewards.appendleft(discounted_reward)\n",
        "\n",
        "          total_rewards = torch.tensor(total_rewards, device=device)\n",
        "          # print(total_rewards)\n",
        "          # print(log_probs_history)\n",
        "          losses = []\n",
        "          for log_prob, r in zip(log_probs_history, total_rewards):\n",
        "              # we add the negative here because the optimizer expects us to perform gradient descent\n",
        "              # but we want ascent so we just flip our values around\n",
        "              losses.append(-r * log_prob)\n",
        "          # print(losses)\n",
        "          loss = torch.cat(losses).sum()\n",
        "          run.log({\"loss\": loss.item()})\n",
        "\n",
        "          rewards_history = []\n",
        "          log_probs_history = []\n",
        "          total_rewards = deque([])\n",
        "\n",
        "          optimizer.zero_grad()\n",
        "          loss.backward()\n",
        "          optimizer.step()\n",
        "\n",
        "  if epoch == 0:\n",
        "    first_epoch[\"actions\"] = action_history[:]\n",
        "    first_epoch[\"portfolio_value\"] = portfolio_value_history[:]\n",
        "  elif epoch == num_epochs - 1:\n",
        "    last_epoch[\"actions\"] = action_history[:]\n",
        "    last_epoch[\"portfolio_value\"] = portfolio_value_history[:]\n",
        "\n",
        "  total_return = (portfolio_value_history[-1] - starting_capital) / starting_capital\n",
        "  run.log({\"total_return\": total_return, \"final_portfolio_value\": portfolio_value_history[-1]})\n",
        "  print(f\"Epoch [{epoch+1}/{num_epochs}] Total Return: {total_return:.4f} Final Portfolio Value: {portfolio_value_history[-1]}\")\n",
        "\n",
        "  # wtf happened at epoch 4"
      ],
      "metadata": {
        "colab": {
          "base_uri": "https://localhost:8080/"
        },
        "id": "6D-N7qkvjiAo",
        "outputId": "33641d1d-0c28-4643-8d0f-a3341a2d69cf"
      },
      "execution_count": 55,
      "outputs": [
        {
          "output_type": "stream",
          "name": "stdout",
          "text": [
            "Epoch [1/5] Total Return: -0.0764 Final Portfolio Value: 9236.318245977163\n",
            "Epoch [2/5] Total Return: 0.7275 Final Portfolio Value: 17274.892873242497\n",
            "Epoch [3/5] Total Return: 1.2747 Final Portfolio Value: 22747.016291990876\n",
            "Epoch [4/5] Total Return: 4.5138 Final Portfolio Value: 55138.10828469694\n",
            "Epoch [5/5] Total Return: 1.1519 Final Portfolio Value: 21519.35908962041\n"
          ]
        }
      ]
    },
    {
      "cell_type": "code",
      "source": [
        "# prompt: plot the portfolio values over time for the first and last epochs\n",
        "\n",
        "import matplotlib.pyplot as plt\n",
        "\n",
        "plt.figure(figsize=(12, 6))\n",
        "\n",
        "plt.subplot(1, 2, 1)\n",
        "plt.plot(first_epoch[\"portfolio_value\"], label=\"Portfolio Value (First Epoch)\")\n",
        "plt.xlabel('Timesteps')\n",
        "plt.ylabel('Portfolio Value')\n",
        "plt.title('Portfolio Value Over Time (First Epoch)')\n",
        "plt.legend()\n",
        "\n",
        "plt.subplot(1, 2, 2)\n",
        "plt.plot(last_epoch[\"portfolio_value\"], label=\"Portfolio Value (Last Epoch)\")\n",
        "plt.xlabel('Timesteps')\n",
        "plt.ylabel('Portfolio Value')\n",
        "plt.title('Portfolio Value Over Time (Last Epoch)')\n",
        "plt.legend()\n",
        "\n",
        "plt.tight_layout()\n",
        "plt.show()\n"
      ],
      "metadata": {
        "colab": {
          "base_uri": "https://localhost:8080/",
          "height": 607
        },
        "id": "dPz6LxfDnZoD",
        "outputId": "67a3f3a7-3ae8-46b2-98af-a366f0172048"
      },
      "execution_count": 56,
      "outputs": [
        {
          "output_type": "display_data",
          "data": {
            "text/plain": [
              "<Figure size 1200x600 with 2 Axes>"
            ],
            "image/png": "[encoded data removed]"
          },
          "metadata": {}
        }
      ]
    },
    {
      "cell_type": "code",
      "source": [
        "# prompt: plot the actions during the last epoch on the same graph as the actual stock prices\n",
        "\n",
        "import matplotlib.pyplot as plt\n",
        "plt.figure(figsize=(12, 6))\n",
        "plt.plot(actual_stock_price, label=\"Actual MSFT Stock Price\")\n",
        "\n",
        "# Iterate through actions and plot buy/sell markers\n",
        "for i, action in enumerate(last_epoch[\"actions\"]):\n",
        "    if action == 0:  # Sell\n",
        "        plt.plot(i, actual_stock_price[i], 'ro', markersize=3, label=\"Sell\" if \"Sell\" not in plt.gca().get_legend_handles_labels()[1] else \"_nolegend_\")\n",
        "    elif action == 1:  # Buy\n",
        "        plt.plot(i, actual_stock_price[i], 'go', markersize=3, label=\"Buy\" if \"Buy\" not in plt.gca().get_legend_handles_labels()[1] else \"_nolegend_\")\n",
        "\n",
        "\n",
        "plt.xlabel('Timesteps')\n",
        "plt.ylabel('Stock Price')\n",
        "plt.title('MSFT Stock Price with Agent Actions (Last Epoch)')\n",
        "plt.legend()\n",
        "plt.show()\n",
        "\n",
        "\"\"\"\n",
        "This plot is pretty hard to read, you can kinda see the agent buying when the price goes up and selling when it goes down, but I don't really have time to improve it.\n",
        "Have to go finish the papers now lol \\\\(*_||\n",
        "\"\"\""
      ],
      "metadata": {
        "colab": {
          "base_uri": "https://localhost:8080/",
          "height": 564
        },
        "id": "XwFr9Y5EoCcf",
        "outputId": "923d3384-cb04-41fb-f810-d35402cd2f3e"
      },
      "execution_count": 77,
      "outputs": [
        {
          "output_type": "display_data",
          "data": {
            "text/plain": [
              "<Figure size 1200x600 with 1 Axes>"
            ],
            "image/png": "[encoded data removed]"
          },
          "metadata": {}
        }
      ]
    },
    {
      "cell_type": "code",
      "source": [
        "# prompt: generate the table showing the stats for the last epoch: show action type (it is an integer), current portfolio value, current stock price\n",
        "\n",
        "import pandas as pd\n",
        "\n",
        "# Assuming last_epoch[\"actions\"], last_epoch[\"portfolio_value\"], and actual_stock_price are defined\n",
        "\n",
        "action_mapping = {\n",
        "    0: \"Sell\",\n",
        "    1: \"Buy\",\n",
        "    2: \"Hold\"\n",
        "}\n",
        "\n",
        "data = []\n",
        "for i in range(len(last_epoch[\"actions\"])):\n",
        "  data.append([\n",
        "      action_mapping.get(last_epoch[\"actions\"][i].item(), \"Unknown\"),\n",
        "      last_epoch[\"portfolio_value\"][i],\n",
        "      actual_stock_price[i]\n",
        "  ])\n",
        "\n",
        "df = pd.DataFrame(data, columns=[\"Action Type\", \"Portfolio Value\", \"Stock Price\"])\n",
        "print(df)\n"
      ],
      "metadata": {
        "colab": {
          "base_uri": "https://localhost:8080/"
        },
        "id": "rnfG9Btsos4i",
        "outputId": "c69e7ae9-06eb-4a71-8d77-4a286d08de82"
      },
      "execution_count": 73,
      "outputs": [
        {
          "output_type": "stream",
          "name": "stdout",
          "text": [
            "     Action Type  Portfolio Value  Stock Price\n",
            "0           Sell     10000.000000     0.066370\n",
            "1           Sell     10000.000000     0.068510\n",
            "2            Buy     10000.000000     0.070651\n",
            "3            Buy     10000.026760     0.072257\n",
            "4           Hold      9999.983944     0.074933\n",
            "...          ...              ...          ...\n",
            "7232        Sell     21154.370457    34.760643\n",
            "7233        Hold     21256.246640    35.517796\n",
            "7234         Buy     21332.652013    35.793137\n",
            "7235        Sell     21532.090260    35.999638\n",
            "7236         Buy     21519.359090    36.524475\n",
            "\n",
            "[7237 rows x 3 columns]\n"
          ]
        }
      ]
    },
    {
      "cell_type": "code",
      "source": [
        "run.finish()"
      ],
      "metadata": {
        "colab": {
          "base_uri": "https://localhost:8080/",
          "height": 244,
          "referenced_widgets": [
            "3b5799b174fe4d93ab5cb7236030bae8",
            "776c643f1ef14d6c8bf4250b61491fd3",
            "29da3c9241b6482f88d1118e11c21b6a",
            "eb236ae607bb403d910cace86ca25406",
            "61747bc59a7944be911f498119954efc",
            "702a997fa65240b3a47c29d932107c11",
            "742d9ea608a74022be9ef49e84f3aa07",
            "7b4a5d0450664e3ba853559fb77763b6"
          ]
        },
        "id": "4hNqYLWrmw_f",
        "outputId": "77984f14-89bc-497a-cdb2-f67be2d11e1e"
      },
      "execution_count": 57,
      "outputs": [
        {
          "output_type": "display_data",
          "data": {
            "text/plain": [
              "VBox(children=(Label(value='0.012 MB of 0.012 MB uploaded\\r'), FloatProgress(value=1.0, max=1.0)))"
            ],
            "application/vnd.jupyter.widget-view+json": {
              "version_major": 2,
              "version_minor": 0,
              "model_id": "3b5799b174fe4d93ab5cb7236030bae8"
            }
          },
          "metadata": {}
        },
        {
          "output_type": "display_data",
          "data": {
            "text/plain": [
              "<IPython.core.display.HTML object>"
            ],
            "text/html": [
              "<style>\n",
              "    table.wandb td:nth-child(1) { padding: 0 10px; text-align: left ; width: auto;} td:nth-child(2) {text-align: left ; width: 100%}\n",
              "    .wandb-row { display: flex; flex-direction: row; flex-wrap: wrap; justify-content: flex-start; width: 100% }\n",
              "    .wandb-col { display: flex; flex-direction: column; flex-basis: 100%; flex: 1; padding: 10px; }\n",
              "    </style>\n",
              "<div class=\"wandb-row\"><div class=\"wandb-col\"><h3>Run history:</h3><br/><table class=\"wandb\"><tr><td>final_portfolio_value</td><td>▃▃▃▃▃▁▂▃█▃</td></tr><tr><td>loss</td><td>▄▄▄▄▄▅▃▄▄▄▄▄▃▅▆▄▄▄▄▄▃▆▇▅▄▄▆▂▇▆▁▁▄█▄▁▄▄▃▄</td></tr><tr><td>total_return</td><td>▃▃▃▃▃▁▂▃█▃</td></tr></table><br/></div><div class=\"wandb-col\"><h3>Run summary:</h3><br/><table class=\"wandb\"><tr><td>final_portfolio_value</td><td>21519.35909</td></tr><tr><td>loss</td><td>-0.52799</td></tr><tr><td>total_return</td><td>1.15194</td></tr></table><br/></div></div>"
            ]
          },
          "metadata": {}
        },
        {
          "output_type": "display_data",
          "data": {
            "text/plain": [
              "<IPython.core.display.HTML object>"
            ],
            "text/html": [
              " View run <strong style=\"color:#cdcd00\">graceful-brook-7</strong> at: <a href='https://wandb.ai/jesse-personal/test-stonk/runs/6fi7fs8c' target=\"_blank\">https://wandb.ai/jesse-personal/test-stonk/runs/6fi7fs8c</a><br/> View project at: <a href='https://wandb.ai/jesse-personal/test-stonk' target=\"_blank\">https://wandb.ai/jesse-personal/test-stonk</a><br/>Synced 5 W&B file(s), 0 media file(s), 0 artifact file(s) and 0 other file(s)"
            ]
          },
          "metadata": {}
        },
        {
          "output_type": "display_data",
          "data": {
            "text/plain": [
              "<IPython.core.display.HTML object>"
            ],
            "text/html": [
              "Find logs at: <code>./wandb/run-20240927_223142-6fi7fs8c/logs</code>"
            ]
          },
          "metadata": {}
        }
      ]
    }
  ]
}